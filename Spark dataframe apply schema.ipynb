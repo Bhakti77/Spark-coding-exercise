{
 "cells": [
  {
   "cell_type": "code",
   "execution_count": 1,
   "id": "582e1963",
   "metadata": {},
   "outputs": [],
   "source": [
    "from pyspark.sql import SparkSession\n",
    "import getpass\n",
    "username = getpass.getuser()\n",
    "spark = SparkSession. \\\n",
    "builder. \\\n",
    "config('spark.ui.port', '0'). \\\n",
    "config(\"spark.sql.warehouse.dir\", f\"/user/{username}/warehouse\"). \\\n",
    "enableHiveSupport(). \\\n",
    "master('yarn'). \\\n",
    "getOrCreate()"
   ]
  },
  {
   "cell_type": "code",
   "execution_count": 2,
   "id": "fe8ef191",
   "metadata": {},
   "outputs": [],
   "source": [
    "orders_df = spark.read \\\n",
    ".format(\"csv\") \\\n",
    ".option(\"header\", \"true\") \\\n",
    ".option(\"inferSchema\", \"true\") \\\n",
    ".load(\"/public/trendytech/orders_wh/*\")"
   ]
  },
  {
   "cell_type": "code",
   "execution_count": 3,
   "id": "2e5be0e6",
   "metadata": {},
   "outputs": [
    {
     "name": "stdout",
     "output_type": "stream",
     "text": [
      "root\n",
      " |-- order_id: integer (nullable = true)\n",
      " |-- order_date: string (nullable = true)\n",
      " |-- customer_id: integer (nullable = true)\n",
      " |-- order_status: string (nullable = true)\n",
      "\n"
     ]
    }
   ],
   "source": [
    "orders_df.printSchema()"
   ]
  },
  {
   "cell_type": "code",
   "execution_count": 4,
   "id": "685be24f",
   "metadata": {},
   "outputs": [],
   "source": [
    "df = spark.read \\\n",
    ".format(\"csv\") \\\n",
    ".load(\"/public/trendytech/datasets/orders_sample.csv\")"
   ]
  },
  {
   "cell_type": "code",
   "execution_count": 5,
   "id": "23e7fa4f",
   "metadata": {},
   "outputs": [
    {
     "name": "stdout",
     "output_type": "stream",
     "text": [
      "+---+--------------------+-----+---------------+\n",
      "|_c0|                 _c1|  _c2|            _c3|\n",
      "+---+--------------------+-----+---------------+\n",
      "|  1|2013-07-25 00:00:...|11599|         CLOSED|\n",
      "|  2|2013-07-25 00:00:...|  256|PENDING_PAYMENT|\n",
      "|  3|2013-07-25 00:00:...|12111|       COMPLETE|\n",
      "|  4|2013-07-25 00:00:...| 8827|         CLOSED|\n",
      "|  5|2013-07-25 00:00:...|11318|       COMPLETE|\n",
      "|  6|2013-07-25 00:00:...| 7130|       COMPLETE|\n",
      "|  7|2013-07-25 00:00:...| 4530|       COMPLETE|\n",
      "|  8|2013-07-25 00:00:...| 2911|     PROCESSING|\n",
      "|  9|2013-07-25 00:00:...| 5657|PENDING_PAYMENT|\n",
      "| 10|2013-07-25 00:00:...| 5648|PENDING_PAYMENT|\n",
      "| 11|2013-07-25 00:00:...|  918| PAYMENT_REVIEW|\n",
      "| 12|2013-07-25 00:00:...| 1837|         CLOSED|\n",
      "| 13|2013-07-25 00:00:...| 9149|PENDING_PAYMENT|\n",
      "| 14|2013-07-25 00:00:...| 9842|     PROCESSING|\n",
      "| 15|2013-07-25 00:00:...| 2568|       COMPLETE|\n",
      "| 16|2013-07-25 00:00:...| 7276|PENDING_PAYMENT|\n",
      "| 17|2013-07-25 00:00:...| 2667|       COMPLETE|\n",
      "| 18|2013-07-25 00:00:...| 1205|         CLOSED|\n",
      "| 19|2013-07-25 00:00:...| 2667|PENDING_PAYMENT|\n",
      "| 20|2013-07-25 00:00:...| 1205|     PROCESSING|\n",
      "+---+--------------------+-----+---------------+\n",
      "\n"
     ]
    }
   ],
   "source": [
    "df.show()"
   ]
  },
  {
   "cell_type": "code",
   "execution_count": 6,
   "id": "7b9058f0",
   "metadata": {},
   "outputs": [
    {
     "name": "stdout",
     "output_type": "stream",
     "text": [
      "root\n",
      " |-- _c0: string (nullable = true)\n",
      " |-- _c1: string (nullable = true)\n",
      " |-- _c2: string (nullable = true)\n",
      " |-- _c3: string (nullable = true)\n",
      "\n"
     ]
    }
   ],
   "source": [
    "df.printSchema()"
   ]
  },
  {
   "cell_type": "code",
   "execution_count": 7,
   "id": "c3a829c9",
   "metadata": {},
   "outputs": [
    {
     "name": "stdout",
     "output_type": "stream",
     "text": [
      "+--------+----------+-------+---------------+\n",
      "|order_id|order_date|cust_id|   order_status|\n",
      "+--------+----------+-------+---------------+\n",
      "|       1|2013-07-25|  11599|         CLOSED|\n",
      "|       2|2013-07-25|    256|PENDING_PAYMENT|\n",
      "|       3|2013-07-25|  12111|       COMPLETE|\n",
      "|       4|2013-07-25|   8827|         CLOSED|\n",
      "|       5|2013-07-25|  11318|       COMPLETE|\n",
      "|       6|2013-07-25|   7130|       COMPLETE|\n",
      "|       7|2013-07-25|   4530|       COMPLETE|\n",
      "|       8|2013-07-25|   2911|     PROCESSING|\n",
      "|       9|2013-07-25|   5657|PENDING_PAYMENT|\n",
      "|      10|2013-07-25|   5648|PENDING_PAYMENT|\n",
      "|      11|2013-07-25|    918| PAYMENT_REVIEW|\n",
      "|      12|2013-07-25|   1837|         CLOSED|\n",
      "|      13|2013-07-25|   9149|PENDING_PAYMENT|\n",
      "|      14|2013-07-25|   9842|     PROCESSING|\n",
      "|      15|2013-07-25|   2568|       COMPLETE|\n",
      "|      16|2013-07-25|   7276|PENDING_PAYMENT|\n",
      "|      17|2013-07-25|   2667|       COMPLETE|\n",
      "|      18|2013-07-25|   1205|         CLOSED|\n",
      "|      19|2013-07-25|   2667|PENDING_PAYMENT|\n",
      "|      20|2013-07-25|   1205|     PROCESSING|\n",
      "+--------+----------+-------+---------------+\n",
      "\n",
      "root\n",
      " |-- order_id: integer (nullable = true)\n",
      " |-- order_date: date (nullable = true)\n",
      " |-- cust_id: long (nullable = true)\n",
      " |-- order_status: string (nullable = true)\n",
      "\n",
      "+--------+----------+-------+---------------+\n",
      "|order_id|order_date|cust_id|   order_status|\n",
      "+--------+----------+-------+---------------+\n",
      "|       1|2013-07-25|  11599|         CLOSED|\n",
      "|       2|2013-07-25|    256|PENDING_PAYMENT|\n",
      "|       3|2013-07-25|  12111|       COMPLETE|\n",
      "|       4|2013-07-25|   8827|         CLOSED|\n",
      "|       5|2013-07-25|  11318|       COMPLETE|\n",
      "|       6|2013-07-25|   7130|       COMPLETE|\n",
      "|       7|2013-07-25|   4530|       COMPLETE|\n",
      "|       8|2013-07-25|   2911|     PROCESSING|\n",
      "|       9|2013-07-25|   5657|PENDING_PAYMENT|\n",
      "|      10|2013-07-25|   5648|PENDING_PAYMENT|\n",
      "|      11|2013-07-25|    918| PAYMENT_REVIEW|\n",
      "|      12|2013-07-25|   1837|         CLOSED|\n",
      "|      13|2013-07-25|   9149|PENDING_PAYMENT|\n",
      "|      14|2013-07-25|   9842|     PROCESSING|\n",
      "|      15|2013-07-25|   2568|       COMPLETE|\n",
      "|      16|2013-07-25|   7276|PENDING_PAYMENT|\n",
      "|      17|2013-07-25|   2667|       COMPLETE|\n",
      "|      18|2013-07-25|   1205|         CLOSED|\n",
      "|      19|2013-07-25|   2667|PENDING_PAYMENT|\n",
      "|      20|2013-07-25|   1205|     PROCESSING|\n",
      "+--------+----------+-------+---------------+\n",
      "\n",
      "root\n",
      " |-- order_id: integer (nullable = true)\n",
      " |-- order_date: date (nullable = true)\n",
      " |-- cust_id: integer (nullable = true)\n",
      " |-- order_status: string (nullable = true)\n",
      "\n"
     ]
    }
   ],
   "source": [
    "#2 ways to enforce the schema instead of using inferschema\n",
    "\n",
    "#1.define schema manually (schema DDL)\n",
    "orders_schema = 'order_id int, order_date date, cust_id long, order_status string'\n",
    "\n",
    "df1 = spark.read.format(\"csv\").schema(orders_schema).load(\"/public/trendytech/datasets/orders_sample.csv\")\n",
    "df1.show()\n",
    "df1.printSchema()\n",
    "\n",
    "#2.Using StructType and StructField\n",
    "from pyspark.sql.types import StructType, StructField, StringType, IntegerType,DateType\n",
    "schema = StructType([StructField(\"order_id\",IntegerType()),\n",
    "                      StructField(\"order_date\",DateType()),\n",
    "                      StructField(\"cust_id\",IntegerType()),\n",
    "                      StructField(\"order_status\",StringType())])\n",
    "df2 = spark.read.format(\"csv\").schema(schema).load(\"/public/trendytech/datasets/orders_sample.csv\")\n",
    "df2.show()\n",
    "df2.printSchema()                                \n",
    "                                  "
   ]
  },
  {
   "cell_type": "code",
   "execution_count": 8,
   "id": "4a7ec1bd",
   "metadata": {},
   "outputs": [
    {
     "name": "stdout",
     "output_type": "stream",
     "text": [
      "+--------+----------+-------+---------------+\n",
      "|order_id|order_date|cust_id|   order_status|\n",
      "+--------+----------+-------+---------------+\n",
      "|       1|2013-01-25|  11599|         CLOSED|\n",
      "|       2|2013-01-25|    256|PENDING_PAYMENT|\n",
      "|       3|2013-01-25|  12111|       COMPLETE|\n",
      "|       4|2013-01-25|   8827|         CLOSED|\n",
      "|       5|2013-01-25|  11318|       COMPLETE|\n",
      "|       6|2013-01-25|   7130|       COMPLETE|\n",
      "|       7|2013-01-25|   4530|       COMPLETE|\n",
      "|       8|2013-01-25|   2911|     PROCESSING|\n",
      "|       9|2013-01-25|   5657|PENDING_PAYMENT|\n",
      "|      10|2013-01-25|   5648|PENDING_PAYMENT|\n",
      "+--------+----------+-------+---------------+\n",
      "\n",
      "root\n",
      " |-- order_id: integer (nullable = true)\n",
      " |-- order_date: date (nullable = true)\n",
      " |-- cust_id: long (nullable = true)\n",
      " |-- order_status: string (nullable = true)\n",
      "\n",
      "+--------+----------+-------+---------------+--------------+\n",
      "|order_id|order_date|cust_id|   order_status|order_date_new|\n",
      "+--------+----------+-------+---------------+--------------+\n",
      "|       1|2013-01-25|  11599|         CLOSED|    2013-01-25|\n",
      "|       2|2013-01-25|    256|PENDING_PAYMENT|    2013-01-25|\n",
      "|       3|2013-01-25|  12111|       COMPLETE|    2013-01-25|\n",
      "|       4|2013-01-25|   8827|         CLOSED|    2013-01-25|\n",
      "|       5|2013-01-25|  11318|       COMPLETE|    2013-01-25|\n",
      "|       6|2013-01-25|   7130|       COMPLETE|    2013-01-25|\n",
      "|       7|2013-01-25|   4530|       COMPLETE|    2013-01-25|\n",
      "|       8|2013-01-25|   2911|     PROCESSING|    2013-01-25|\n",
      "|       9|2013-01-25|   5657|PENDING_PAYMENT|    2013-01-25|\n",
      "|      10|2013-01-25|   5648|PENDING_PAYMENT|    2013-01-25|\n",
      "+--------+----------+-------+---------------+--------------+\n",
      "\n"
     ]
    }
   ],
   "source": [
    "#Dealing with date datatype\n",
    "\n",
    "#Sometime date can be in diff format than yyyy-mm-dd, Spark sometimes will not be able to parse it and give error.\n",
    "#1.use dateFormat\n",
    "orders_schema = 'order_id int, order_date date, cust_id long, order_status string'\n",
    "\n",
    "df3 = spark.read.format(\"csv\").schema(orders_schema).option(\"dateFormat\",\"mm-dd-yyyy\")\\\n",
    ".load(\"/public/trendytech/datasets/orders_sample2.csv\")\n",
    "df3.show()\n",
    "df3.printSchema()\n",
    "\n",
    "#2.change the  datatype format using withColumn\n",
    "from pyspark.sql.functions import to_date\n",
    "newdf = df3.withColumn(\"order_date_new\",to_date(\"order_date\",\"mm-dd-yyyy\"))\n",
    "newdf.show()"
   ]
  },
  {
   "cell_type": "code",
   "execution_count": null,
   "id": "fd94a438",
   "metadata": {},
   "outputs": [],
   "source": []
  }
 ],
 "metadata": {
  "kernelspec": {
   "display_name": "Pyspark 3",
   "language": "python",
   "name": "pyspark3"
  },
  "language_info": {
   "codemirror_mode": {
    "name": "ipython",
    "version": 3
   },
   "file_extension": ".py",
   "mimetype": "text/x-python",
   "name": "python",
   "nbconvert_exporter": "python",
   "pygments_lexer": "ipython3",
   "version": "3.6.12"
  }
 },
 "nbformat": 4,
 "nbformat_minor": 5
}
