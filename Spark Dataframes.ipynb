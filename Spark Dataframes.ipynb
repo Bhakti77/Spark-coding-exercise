{
 "cells": [
  {
   "cell_type": "code",
   "execution_count": 1,
   "id": "6d1a64cd",
   "metadata": {},
   "outputs": [],
   "source": [
    "from pyspark.sql import SparkSession\n",
    "import getpass\n",
    "username = getpass.getuser()\n",
    "spark = SparkSession. \\\n",
    "builder. \\\n",
    "config('spark.ui.port', '0'). \\\n",
    "config(\"spark.sql.warehouse.dir\", f\"/user/{username}/warehouse\"). \\\n",
    "enableHiveSupport(). \\\n",
    "master('yarn'). \\\n",
    "getOrCreate()"
   ]
  },
  {
   "cell_type": "code",
   "execution_count": 2,
   "id": "53b00c8e",
   "metadata": {},
   "outputs": [],
   "source": [
    "orders_df = spark.read \\\n",
    ".format(\"csv\") \\\n",
    ".option(\"header\", \"true\") \\\n",
    ".option(\"inferSchema\", \"true\") \\\n",
    ".load(\"/public/trendytech/orders_wh/*\")"
   ]
  },
  {
   "cell_type": "code",
   "execution_count": 3,
   "id": "4b6222c1",
   "metadata": {},
   "outputs": [
    {
     "name": "stdout",
     "output_type": "stream",
     "text": [
      "+--------+--------------------+-----------+---------------+\n",
      "|order_id|          order_date|customer_id|   order_status|\n",
      "+--------+--------------------+-----------+---------------+\n",
      "|       1|2013-07-25 00:00:...|      11599|         CLOSED|\n",
      "|       2|2013-07-25 00:00:...|        256|PENDING_PAYMENT|\n",
      "|       3|2013-07-25 00:00:...|      12111|       COMPLETE|\n",
      "|       4|2013-07-25 00:00:...|       8827|         CLOSED|\n",
      "|       5|2013-07-25 00:00:...|      11318|       COMPLETE|\n",
      "|       6|2013-07-25 00:00:...|       7130|       COMPLETE|\n",
      "|       7|2013-07-25 00:00:...|       4530|       COMPLETE|\n",
      "|       8|2013-07-25 00:00:...|       2911|     PROCESSING|\n",
      "|       9|2013-07-25 00:00:...|       5657|PENDING_PAYMENT|\n",
      "|      10|2013-07-25 00:00:...|       5648|PENDING_PAYMENT|\n",
      "|      11|2013-07-25 00:00:...|        918| PAYMENT_REVIEW|\n",
      "|      12|2013-07-25 00:00:...|       1837|         CLOSED|\n",
      "|      13|2013-07-25 00:00:...|       9149|PENDING_PAYMENT|\n",
      "|      14|2013-07-25 00:00:...|       9842|     PROCESSING|\n",
      "|      15|2013-07-25 00:00:...|       2568|       COMPLETE|\n",
      "|      16|2013-07-25 00:00:...|       7276|PENDING_PAYMENT|\n",
      "|      17|2013-07-25 00:00:...|       2667|       COMPLETE|\n",
      "|      18|2013-07-25 00:00:...|       1205|         CLOSED|\n",
      "|      19|2013-07-25 00:00:...|       9488|PENDING_PAYMENT|\n",
      "|      20|2013-07-25 00:00:...|       9198|     PROCESSING|\n",
      "+--------+--------------------+-----------+---------------+\n",
      "only showing top 20 rows\n",
      "\n"
     ]
    }
   ],
   "source": [
    "orders_df.show()"
   ]
  },
  {
   "cell_type": "code",
   "execution_count": 4,
   "id": "bd2a15d4",
   "metadata": {},
   "outputs": [],
   "source": [
    "orders_df.createOrReplaceTempView(\"orders\")"
   ]
  },
  {
   "cell_type": "markdown",
   "id": "cdb0aa1b",
   "metadata": {},
   "source": [
    "##### 1.Top 15 customers who placed most number of orders"
   ]
  },
  {
   "cell_type": "code",
   "execution_count": 5,
   "id": "abe0e527",
   "metadata": {},
   "outputs": [
    {
     "name": "stdout",
     "output_type": "stream",
     "text": [
      "+-----------+-----+\n",
      "|customer_id|count|\n",
      "+-----------+-----+\n",
      "|       5897|   16|\n",
      "|      12431|   16|\n",
      "|        569|   16|\n",
      "|       6316|   16|\n",
      "|      12284|   15|\n",
      "|       4320|   15|\n",
      "|       5624|   15|\n",
      "|       5283|   15|\n",
      "|        221|   15|\n",
      "|       5654|   15|\n",
      "|       6248|   14|\n",
      "|       3708|   14|\n",
      "|       1011|   14|\n",
      "|       8652|   14|\n",
      "|       4517|   14|\n",
      "+-----------+-----+\n",
      "\n",
      "+-----------+-----+\n",
      "|customer_id|count|\n",
      "+-----------+-----+\n",
      "|       5897|   16|\n",
      "|      12431|   16|\n",
      "|        569|   16|\n",
      "|       6316|   16|\n",
      "|      12284|   15|\n",
      "|       4320|   15|\n",
      "|       5624|   15|\n",
      "|       5283|   15|\n",
      "|        221|   15|\n",
      "|       5654|   15|\n",
      "|       6248|   14|\n",
      "|       3708|   14|\n",
      "|       1011|   14|\n",
      "|       8652|   14|\n",
      "|       4517|   14|\n",
      "+-----------+-----+\n",
      "\n"
     ]
    }
   ],
   "source": [
    "#dataframe\n",
    "result1 = orders_df.groupBy(\"customer_id\").count().sort(\"count\",ascending = False).limit(15)\n",
    "result1.show()\n",
    "\n",
    "#sparkSQL \n",
    "#created tempview as orders - orders_df.createOrReplaceTempView(\"orders\")\n",
    "result2 = spark.sql(\"select customer_id, count(order_id) as count from orders group by 1 order by 2 desc limit 15\")\n",
    "result2.show()\n"
   ]
  },
  {
   "cell_type": "markdown",
   "id": "22aa738c",
   "metadata": {},
   "source": [
    "##### 2. Find the number of orders under each order status"
   ]
  },
  {
   "cell_type": "code",
   "execution_count": 6,
   "id": "1b0e2570",
   "metadata": {},
   "outputs": [
    {
     "name": "stdout",
     "output_type": "stream",
     "text": [
      "+---------------+-----+\n",
      "|   order_status|count|\n",
      "+---------------+-----+\n",
      "|PENDING_PAYMENT|15030|\n",
      "|       COMPLETE|22899|\n",
      "|        ON_HOLD| 3798|\n",
      "| PAYMENT_REVIEW|  729|\n",
      "|     PROCESSING| 8275|\n",
      "|         CLOSED| 7556|\n",
      "|SUSPECTED_FRAUD| 1558|\n",
      "|        PENDING| 7610|\n",
      "|       CANCELED| 1428|\n",
      "+---------------+-----+\n",
      "\n",
      "+---------------+-----+\n",
      "|   order_status|count|\n",
      "+---------------+-----+\n",
      "|PENDING_PAYMENT|15030|\n",
      "|       COMPLETE|22899|\n",
      "|        ON_HOLD| 3798|\n",
      "| PAYMENT_REVIEW|  729|\n",
      "|     PROCESSING| 8275|\n",
      "|         CLOSED| 7556|\n",
      "|SUSPECTED_FRAUD| 1558|\n",
      "|        PENDING| 7610|\n",
      "|       CANCELED| 1428|\n",
      "+---------------+-----+\n",
      "\n"
     ]
    }
   ],
   "source": [
    "#dataframe\n",
    "result3 = orders_df.groupBy(\"order_status\").count()\n",
    "result3.show()\n",
    "\n",
    "#sparkSQL \n",
    "#created tempview as orders - orders_df.createOrReplaceTempView(\"orders\")\n",
    "result4 = spark.sql(\"select order_status, count(order_id) as count from orders group by 1\")\n",
    "result4.show()\n"
   ]
  },
  {
   "cell_type": "markdown",
   "id": "d11b1d8a",
   "metadata": {},
   "source": [
    "##### 3.Number of active customers who placed atleast one order"
   ]
  },
  {
   "cell_type": "code",
   "execution_count": 7,
   "id": "074801ea",
   "metadata": {},
   "outputs": [
    {
     "name": "stdout",
     "output_type": "stream",
     "text": [
      "12405\n",
      "+---------------------------+\n",
      "|count(DISTINCT customer_id)|\n",
      "+---------------------------+\n",
      "|                      12405|\n",
      "+---------------------------+\n",
      "\n"
     ]
    }
   ],
   "source": [
    "#dataframe\n",
    "\n",
    "result5 = orders_df.select(\"customer_id\").distinct().count()\n",
    "print(result5)\n",
    "\n",
    "#sparkSQL \n",
    "#created tempview as orders - orders_df.createOrReplaceTempView(\"orders\")\n",
    "result6 = spark.sql(\"select count(distinct customer_id) from orders\")\n",
    "result6.show()\n"
   ]
  },
  {
   "cell_type": "markdown",
   "id": "e126540d",
   "metadata": {},
   "source": [
    "##### 4. Customer with most closed orders"
   ]
  },
  {
   "cell_type": "code",
   "execution_count": 13,
   "id": "c8657ea9",
   "metadata": {},
   "outputs": [
    {
     "name": "stdout",
     "output_type": "stream",
     "text": [
      "+-----------+-----+\n",
      "|customer_id|count|\n",
      "+-----------+-----+\n",
      "|       1833|    6|\n",
      "|       1363|    5|\n",
      "|       1687|    5|\n",
      "|       5493|    5|\n",
      "|       7948|    4|\n",
      "|       2768|    4|\n",
      "|      10263|    4|\n",
      "|       2236|    4|\n",
      "|       2403|    4|\n",
      "|       7879|    4|\n",
      "|       4573|    4|\n",
      "|       7850|    4|\n",
      "|      12431|    4|\n",
      "|       1521|    4|\n",
      "|      10111|    4|\n",
      "|        437|    4|\n",
      "|      10018|    4|\n",
      "|       5319|    4|\n",
      "|       2774|    4|\n",
      "|       3631|    4|\n",
      "+-----------+-----+\n",
      "only showing top 20 rows\n",
      "\n",
      "+-----------+--------+\n",
      "|customer_id|count(1)|\n",
      "+-----------+--------+\n",
      "|       1833|       6|\n",
      "|       1363|       5|\n",
      "|       1687|       5|\n",
      "|       5493|       5|\n",
      "|       7948|       4|\n",
      "|       2768|       4|\n",
      "|      10263|       4|\n",
      "|       2236|       4|\n",
      "|       2403|       4|\n",
      "|       7879|       4|\n",
      "|       4573|       4|\n",
      "|       7850|       4|\n",
      "|      12431|       4|\n",
      "|       1521|       4|\n",
      "|      10111|       4|\n",
      "|        437|       4|\n",
      "|      10018|       4|\n",
      "|       5319|       4|\n",
      "|       2774|       4|\n",
      "|       3631|       4|\n",
      "+-----------+--------+\n",
      "only showing top 20 rows\n",
      "\n"
     ]
    }
   ],
   "source": [
    "#dataframe\n",
    "result7 = orders_df.where(\"order_status == 'CLOSED'\").groupBy(\"customer_id\").count().sort(\"count\",ascending = False).select(\"customer_id\",\"count\")\n",
    "print(result7)\n",
    "\n",
    "#sparkSQL \n",
    "#created tempview as orders - orders_df.createOrReplaceTempView(\"orders\")\n",
    "result8 = spark.sql(\"select customer_id,count(*) from orders where order_status = 'CLOSED' group by customer_id order by 2 desc\")\n",
    "result8.show()"
   ]
  },
  {
   "cell_type": "code",
   "execution_count": null,
   "id": "c4597e2b",
   "metadata": {},
   "outputs": [],
   "source": [
    "\n"
   ]
  },
  {
   "cell_type": "code",
   "execution_count": null,
   "id": "81fa6558",
   "metadata": {},
   "outputs": [],
   "source": []
  }
 ],
 "metadata": {
  "kernelspec": {
   "display_name": "Pyspark 3",
   "language": "python",
   "name": "pyspark3"
  },
  "language_info": {
   "codemirror_mode": {
    "name": "ipython",
    "version": 3
   },
   "file_extension": ".py",
   "mimetype": "text/x-python",
   "name": "python",
   "nbconvert_exporter": "python",
   "pygments_lexer": "ipython3",
   "version": "3.6.12"
  }
 },
 "nbformat": 4,
 "nbformat_minor": 5
}
